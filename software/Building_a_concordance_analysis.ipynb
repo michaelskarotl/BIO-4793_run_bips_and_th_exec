{
 "cells": [
  {
   "cell_type": "markdown",
   "metadata": {},
   "source": [
    "### Date: 3/25/24\n",
    "### Who: Michael Skaro\n",
    "### What: \n",
    "In this notebook we will build a simple concordance analysis of the rna-fusion, rna-variant, and rna-expression workflows. We will build off of the work done by @Brad.Bowles, Christine.Chine and @Genelle.Harrisson to make a unfied script with a single entry point and a specifc output format. The entry point will be the name of the workflow, the change behavior we are testing, the output will either be a sample of gene expression profiles, a list of variants called in the benchmark workflow or a list of fusions called in the benchmark workflow. \n",
    "### Why: \n",
    "As the number of workflows, number of versions of softwares, and the number of runtime environments increase, it is important for me to understand how to build a concordance analysis that can be used to compare the results of different workflows. Further, the onus is on me to establish a base set of tools that i can use to interact with my work environment.\n",
    "### How/TODO:\n",
    "[] Build a function to use or emulate *the function of* the th_execute_adapter.py script that @Christine.Chin created to ingest a th_execute csv file and return the json file. We will call this python script and \n",
    "execute it with the following command:\n",
    "```python3  th_adapter.py --input-path filename.csv --output-path out.json```\n",
    "[] Build a function to accept/read in the json file and run the th-execute -m b --input-path filename.json --env staging\n",
    "\n",
    "\n"
   ]
  },
  {
   "cell_type": "code",
   "execution_count": null,
   "metadata": {},
   "outputs": [],
   "source": []
  }
 ],
 "metadata": {
  "kernelspec": {
   "display_name": "binftools",
   "language": "python",
   "name": "python3"
  },
  "language_info": {
   "name": "python",
   "version": "3.9.6"
  }
 },
 "nbformat": 4,
 "nbformat_minor": 2
}
